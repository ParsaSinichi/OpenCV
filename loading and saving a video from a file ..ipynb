{
 "cells": [
  {
   "cell_type": "code",
   "execution_count": 1,
   "id": "92cb274d",
   "metadata": {},
   "outputs": [],
   "source": [
    "import cv2"
   ]
  },
  {
   "cell_type": "code",
   "execution_count": 3,
   "id": "1c597dc4",
   "metadata": {},
   "outputs": [],
   "source": [
    "\n",
    "cap=cv2.VideoCapture('videos/test.mp4')\n",
    "while True : \n",
    "    ret,frame = cap.read()\n",
    "    \n",
    "    if not ret : # if frame is read correctly, ret is true \n",
    "        print(\"Exit\")\n",
    "        break\n",
    "    cv2.imshow(\"Test\",frame)\n",
    "    if cv2.waitKey(1) & 0xff==27 : \n",
    "        break\n",
    "        \n",
    "cap.release()\n",
    "cv2.destroyAllWindows()"
   ]
  },
  {
   "cell_type": "code",
   "execution_count": 4,
   "id": "db7ca44c",
   "metadata": {},
   "outputs": [],
   "source": [
    "\n",
    "cap=cv2.VideoCapture('videos/test.mp4')\n",
    "while True : \n",
    "    ret,frame = cap.read()\n",
    "    \n",
    "    if not ret : # if frame is read correctly, ret is true \n",
    "        print(\"Exit\")\n",
    "        break\n",
    "    gray=cv2.cvtColor(frame,cv2.COLOR_BGR2GRAY)    # Changing the colors to gray \n",
    "    cv2.imshow(\"Test\",gray)\n",
    "    if cv2.waitKey(1) & 0xff==27 : \n",
    "        break\n",
    "        \n",
    "cap.release()\n",
    "cv2.destroyAllWindows()"
   ]
  },
  {
   "cell_type": "markdown",
   "id": "98a8a913",
   "metadata": {},
   "source": [
    "Note : Cap could give us some information about our video such as FPS , width , height"
   ]
  },
  {
   "cell_type": "code",
   "execution_count": 8,
   "id": "d8a636ce",
   "metadata": {},
   "outputs": [
    {
     "name": "stdout",
     "output_type": "stream",
     "text": [
      "width: 1280.0\n",
      "height: 720.0\n",
      "FPS: 15.0\n"
     ]
    }
   ],
   "source": [
    "cap=cv2.VideoCapture('videos/test.mp4')\n",
    "\n",
    "print(\"width:\", cap.get(cv2.CAP_PROP_FRAME_WIDTH))\n",
    "print(\"height:\", cap.get(cv2.CAP_PROP_FRAME_HEIGHT))\n",
    "print(\"FPS:\", cap.get(cv2.CAP_PROP_FPS))"
   ]
  },
  {
   "cell_type": "markdown",
   "id": "3ced974e",
   "metadata": {},
   "source": [
    "# Saving a video"
   ]
  },
  {
   "cell_type": "code",
   "execution_count": null,
   "id": "de17e74a",
   "metadata": {},
   "outputs": [],
   "source": [
    "import numpy as np\n",
    "import cv2\n",
    "cap = cv2.VideoCapture(0)\n",
    "\n",
    "# Define the codec and create VideoWriter object\n",
    "fourcc = cv2.VideoWriter_fourcc(*'XVID')\n",
    "out = cv2.VideoWriter('output.avi', fourcc, 20.0, (640,  480))\n",
    "while cap.isOpened():\n",
    "    ret, frame = cap.read()\n",
    "    if not ret:\n",
    "        print(\"Can't receive frame. Exiting ...\")\n",
    "        break\n",
    "    frame = cv2.flip(frame, 1)\n",
    "    # write the flipped frame\n",
    "    out.write(frame)\n",
    "    cv2.imshow('frame', frame)\n",
    "    if cv2.waitKey(1) == ord('q'):\n",
    "        break\n",
    "# Release everything\n",
    "cap.release()\n",
    "out.release()\n",
    "cv2.destroyAllWindows()"
   ]
  },
  {
   "cell_type": "markdown",
   "id": "74dc6274",
   "metadata": {},
   "source": [
    "# Changing color channels of the video"
   ]
  },
  {
   "cell_type": "code",
   "execution_count": null,
   "id": "c7083bde",
   "metadata": {},
   "outputs": [],
   "source": [
    "import cv2\n",
    "\n",
    "# Load video clip\n",
    "cap = cv2.VideoCapture('videos/test.mp4')\n",
    "\n",
    "# Get the height and width of the frame (required to be an interger)\n",
    "w = int(cap.get(3)) \n",
    "h = int(cap.get(4))\n",
    "\n",
    "# Define the codec and create VideoWriter object. The output is stored in '*.avi' file. False means grayscale frames \n",
    "out = cv2.VideoWriter('race_car_gray.avi', cv2.VideoWriter_fourcc('M','J','P','G'), cap.get(cv2.CAP_PROP_FPS), (w, h), False)\n",
    "\n",
    "while True:\n",
    "\n",
    "    ret, frame = cap.read()\n",
    "\n",
    "    if ret == True:\n",
    "        gray = cv2.cvtColor(frame, cv2.COLOR_BGR2GRAY)\n",
    "        out.write(gray)\n",
    "    else:\n",
    "        print(\"Done\")\n",
    "        break\n",
    "        \n",
    "cap.release()\n",
    "out.release()\n",
    "cv2.destroyAllWindows()"
   ]
  }
 ],
 "metadata": {
  "kernelspec": {
   "display_name": "Python 3 (ipykernel)",
   "language": "python",
   "name": "python3"
  },
  "language_info": {
   "codemirror_mode": {
    "name": "ipython",
    "version": 3
   },
   "file_extension": ".py",
   "mimetype": "text/x-python",
   "name": "python",
   "nbconvert_exporter": "python",
   "pygments_lexer": "ipython3",
   "version": "3.8.0"
  }
 },
 "nbformat": 4,
 "nbformat_minor": 5
}
