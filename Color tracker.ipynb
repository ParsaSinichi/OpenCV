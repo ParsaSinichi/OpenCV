{
 "cells": [
  {
   "cell_type": "code",
   "execution_count": 1,
   "id": "2683a9d5",
   "metadata": {},
   "outputs": [],
   "source": [
    "import cv2\n",
    "import numpy as np\n",
    "import matplotlib.pyplot as plt"
   ]
  },
  {
   "cell_type": "code",
   "execution_count": 8,
   "id": "593ed785",
   "metadata": {},
   "outputs": [],
   "source": [
    "cap=cv2.VideoCapture(\"videos/blue-track.mp4\")\n",
    "while True : \n",
    "    ret,frame=cap.read()\n",
    "    if not ret :\n",
    "        break\n",
    "\n",
    "    hsv=cv2.cvtColor(frame,cv2.COLOR_BGR2HSV)\n",
    "    #note that blue is in the 120 area so we take lower and higher values of it for better result\n",
    "    lower_blue=np.array([100,50,255])#HSV values \n",
    "    upper_blue=np.array([130,255,255])#HSV values \n",
    "    mask = cv2.inRange(hsv, lower_blue, upper_blue)\n",
    "    res = cv2.bitwise_and(frame,frame, mask= mask)\n",
    "\n",
    "    cv2.imshow('frame',frame)\n",
    "    cv2.imshow('mask',mask)\n",
    "    cv2.imshow('res',res)\n",
    "    \n",
    "    k = cv2.waitKey(5) & 0xFF\n",
    "    if k == 27:\n",
    "        break\n",
    "\n",
    "cv2.destroyAllWindows()\n",
    "cap.release()\n",
    "    "
   ]
  },
  {
   "cell_type": "markdown",
   "id": "0a919c24",
   "metadata": {},
   "source": [
    "# drawing a circle around the object"
   ]
  },
  {
   "cell_type": "code",
   "execution_count": 7,
   "id": "dd3c8846",
   "metadata": {},
   "outputs": [],
   "source": [
    "import cv2\n",
    "import numpy as np\n",
    "\n",
    "cap = cv2.VideoCapture(\"videos/blue-track.mp4\")\n",
    "\n",
    "while True:\n",
    "    ret, frame = cap.read()\n",
    "    if not ret:\n",
    "        break\n",
    "    hsv = cv2.cvtColor(frame, cv2.COLOR_BGR2HSV)\n",
    "    \n",
    "    lower_blue = np.array([100,50,50])#HSV range\n",
    "    upper_blue = np.array([130,255,255])#HSV range\n",
    "    \n",
    "    mask = cv2.inRange(hsv, lower_blue, upper_blue)\n",
    "    contours, _ = cv2.findContours(mask, cv2.RETR_TREE, cv2.CHAIN_APPROX_SIMPLE)\n",
    "    centers, radius = cv2.minEnclosingCircle(contours[0])\n",
    "    centers = int(centers[0]), int(centers[1])\n",
    "    radius = int(radius)\n",
    "    cv2.circle(frame, centers, radius, (0,0,255), 2)\n",
    "    cv2.imshow('image',frame)\n",
    "    \n",
    "    k = cv2.waitKey(5) & 0xFF\n",
    "    if k == 27:\n",
    "        break\n",
    "\n",
    "cv2.destroyAllWindows()\n",
    "cap.release()"
   ]
  }
 ],
 "metadata": {
  "kernelspec": {
   "display_name": "Python 3 (ipykernel)",
   "language": "python",
   "name": "python3"
  },
  "language_info": {
   "codemirror_mode": {
    "name": "ipython",
    "version": 3
   },
   "file_extension": ".py",
   "mimetype": "text/x-python",
   "name": "python",
   "nbconvert_exporter": "python",
   "pygments_lexer": "ipython3",
   "version": "3.8.0"
  }
 },
 "nbformat": 4,
 "nbformat_minor": 5
}
