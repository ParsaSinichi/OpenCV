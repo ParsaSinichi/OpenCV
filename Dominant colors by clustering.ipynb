{
 "cells": [
  {
   "cell_type": "code",
   "execution_count": 1,
   "id": "13bcb0f9",
   "metadata": {},
   "outputs": [
    {
     "name": "stderr",
     "output_type": "stream",
     "text": [
      "c:\\users\\parsa\\appdata\\local\\programs\\python\\python39\\lib\\site-packages\\sklearn\\cluster\\_kmeans.py:870: FutureWarning: The default value of `n_init` will change from 10 to 'auto' in 1.4. Set the value of `n_init` explicitly to suppress the warning\n",
      "  warnings.warn(\n"
     ]
    },
    {
     "name": "stdout",
     "output_type": "stream",
     "text": [
      "[[ 10 139  77]\n",
      " [  2 179 245]\n",
      " [  2  58  21]\n",
      " [ 28  59 183]\n",
      " [129 188 227]]\n",
      "[3 3 3 ... 2 2 2]\n"
     ]
    }
   ],
   "source": [
    "import cv2\n",
    "import numpy as np\n",
    "from sklearn.cluster import KMeans\n",
    "import matplotlib.pyplot as plt\n",
    "\n",
    "\n",
    "n_clusters = 5\n",
    "\n",
    "#read image\n",
    "img = cv2.imread(\"images/bell-pepper.jpg\")\n",
    "\n",
    "#reshape to a list of pixels\n",
    "flat_img = img.reshape((-1, 3))\n",
    "\n",
    "#using k-means to cluster pixels\n",
    "kmeans = KMeans(n_clusters = n_clusters)\n",
    "kmeans.fit(flat_img)\n",
    "\n",
    "#the cluster centers are our dominant colors.\n",
    "dominant_colors = np.array(kmeans.cluster_centers_, dtype='uint8')\n",
    "\n",
    "labels = kmeans.labels_\n",
    "\n",
    "print(dominant_colors)\n",
    "print(labels)"
   ]
  },
  {
   "cell_type": "code",
   "execution_count": 2,
   "id": "50c3e8da",
   "metadata": {},
   "outputs": [
    {
     "data": {
      "text/plain": [
       "array([138357, 319887, 264468, 199662,  26106], dtype=int64)"
      ]
     },
     "execution_count": 2,
     "metadata": {},
     "output_type": "execute_result"
    }
   ],
   "source": [
    "np.bincount(labels)#number of pixels for each cluster"
   ]
  },
  {
   "cell_type": "code",
   "execution_count": 4,
   "id": "40e2779d",
   "metadata": {
    "scrolled": true
   },
   "outputs": [
    {
     "data": {
      "text/plain": [
       "array([0.14587234, 0.33726278, 0.2788335 , 0.21050734, 0.02752404])"
      ]
     },
     "execution_count": 4,
     "metadata": {},
     "output_type": "execute_result"
    }
   ],
   "source": [
    "percentages = np.bincount(labels)/len(flat_img)\n",
    "percentages# percentage of each cluster in our image "
   ]
  },
  {
   "cell_type": "code",
   "execution_count": 7,
   "id": "2429d955",
   "metadata": {},
   "outputs": [
    {
     "data": {
      "text/plain": [
       "[(0.33726277834008095, array([  2, 179, 245], dtype=uint8)),\n",
       " (0.2788335020242915, array([ 2, 58, 21], dtype=uint8)),\n",
       " (0.21050733805668015, array([ 28,  59, 183], dtype=uint8)),\n",
       " (0.1458723431174089, array([ 10, 139,  77], dtype=uint8)),\n",
       " (0.02752403846153846, array([129, 188, 227], dtype=uint8))]"
      ]
     },
     "execution_count": 7,
     "metadata": {},
     "output_type": "execute_result"
    }
   ],
   "source": [
    "p_and_c = zip(percentages,dominant_colors)\n",
    "p_and_c = sorted(p_and_c,reverse=True)\n",
    "p_and_c             "
   ]
  },
  {
   "cell_type": "code",
   "execution_count": 8,
   "id": "47b1345c",
   "metadata": {
    "scrolled": true
   },
   "outputs": [
    {
     "data": {
      "image/png": "[encoded data removed]",
      "text/plain": [
       "<Figure size 1200x800 with 5 Axes>"
      ]
     },
     "metadata": {},
     "output_type": "display_data"
    }
   ],
   "source": [
    "block = np.ones((50,50,3),dtype='uint')\n",
    "plt.figure(figsize=(12,8))\n",
    "for i in range(n_clusters):\n",
    "    plt.subplot(1,n_clusters,i+1)\n",
    "    block[:] = p_and_c[i][1][::-1] # we have done this to convert bgr(opencv) to rgb(matplotlib) \n",
    "    plt.imshow(block)\n",
    "    plt.xticks([])\n",
    "    plt.yticks([])\n",
    "    plt.xlabel(str(round(p_and_c[i][0]*100,2))+'%')"
   ]
  },
  {
   "cell_type": "code",
   "execution_count": 9,
   "id": "af22cf3d",
   "metadata": {},
   "outputs": [
    {
     "data": {
      "text/plain": [
       "([], [])"
      ]
     },
     "execution_count": 9,
     "metadata": {},
     "output_type": "execute_result"
    },
    {
     "data": {
      "image/png": "[encoded data removed]",
      "text/plain": [
       "<Figure size 1200x800 with 1 Axes>"
      ]
     },
     "metadata": {},
     "output_type": "display_data"
    }
   ],
   "source": [
    "bar = np.ones((50,500,3),dtype='uint')\n",
    "plt.figure(figsize=(12,8))\n",
    "plt.title('Proportions of colors in the image')\n",
    "start = 0\n",
    "i = 1\n",
    "for p,c in p_and_c:\n",
    "    end = start+int(p*500)\n",
    "    if i==n_clusters:\n",
    "        bar[:,start:] = c[::-1]\n",
    "    else:\n",
    "        bar[:,start:end] = c[::-1]\n",
    "    start = end\n",
    "    i+=1\n",
    "\n",
    "plt.imshow(bar)\n",
    "plt.xticks([])\n",
    "plt.yticks([])\n"
   ]
  },
  {
   "cell_type": "code",
   "execution_count": null,
   "id": "8d4a83e0",
   "metadata": {},
   "outputs": [],
   "source": []
  }
 ],
 "metadata": {
  "kernelspec": {
   "display_name": "Python 3 (ipykernel)",
   "language": "python",
   "name": "python3"
  },
  "language_info": {
   "codemirror_mode": {
    "name": "ipython",
    "version": 3
   },
   "file_extension": ".py",
   "mimetype": "text/x-python",
   "name": "python",
   "nbconvert_exporter": "python",
   "pygments_lexer": "ipython3",
   "version": "3.9.0"
  }
 },
 "nbformat": 4,
 "nbformat_minor": 5
}
