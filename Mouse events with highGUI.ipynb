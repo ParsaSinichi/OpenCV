{
 "cells": [
  {
   "cell_type": "code",
   "execution_count": 7,
   "id": "e24b72bb",
   "metadata": {},
   "outputs": [],
   "source": [
    "import numpy as np\n",
    "import cv2\n",
    "import matplotlib.pyplot as plt\n"
   ]
  },
  {
   "cell_type": "markdown",
   "id": "791d01b5",
   "metadata": {},
   "source": [
    "Availabe events in OpenCV"
   ]
  },
  {
   "cell_type": "code",
   "execution_count": 3,
   "id": "c2c32185",
   "metadata": {},
   "outputs": [
    {
     "data": {
      "text/plain": [
       "['EVENT_FLAG_ALTKEY',\n",
       " 'EVENT_FLAG_CTRLKEY',\n",
       " 'EVENT_FLAG_LBUTTON',\n",
       " 'EVENT_FLAG_MBUTTON',\n",
       " 'EVENT_FLAG_RBUTTON',\n",
       " 'EVENT_FLAG_SHIFTKEY',\n",
       " 'EVENT_LBUTTONDBLCLK',\n",
       " 'EVENT_LBUTTONDOWN',\n",
       " 'EVENT_LBUTTONUP',\n",
       " 'EVENT_MBUTTONDBLCLK',\n",
       " 'EVENT_MBUTTONDOWN',\n",
       " 'EVENT_MBUTTONUP',\n",
       " 'EVENT_MOUSEHWHEEL',\n",
       " 'EVENT_MOUSEMOVE',\n",
       " 'EVENT_MOUSEWHEEL',\n",
       " 'EVENT_RBUTTONDBLCLK',\n",
       " 'EVENT_RBUTTONDOWN',\n",
       " 'EVENT_RBUTTONUP']"
      ]
     },
     "execution_count": 3,
     "metadata": {},
     "output_type": "execute_result"
    }
   ],
   "source": [
    "events =[i for i in dir(cv2) if \"EVENT\" in i]\n",
    "events"
   ]
  },
  {
   "cell_type": "code",
   "execution_count": 6,
   "id": "835a06ca",
   "metadata": {},
   "outputs": [],
   "source": [
    "\n",
    "def draw_circle(event,x,y,flags,param):\n",
    "    if event== cv2.EVENT_LBUTTONDOWN:\n",
    "        cv2.circle(img,(x,y),20,(150,0,200),-1)\n",
    "\n",
    "img=np.zeros((512,512,3),np.uint8)\n",
    "cv2.namedWindow('image')\n",
    "cv2.setMouseCallback('image',draw_circle)\n",
    "while True : \n",
    "    cv2.imshow('image',img)\n",
    "    if cv2.waitKey(1) & 0XFF==27 : # assci code for ESC\n",
    "        break\n",
    "cv2.destroyAllWindows()\n",
    "    "
   ]
  },
  {
   "cell_type": "markdown",
   "id": "bb4711fc",
   "metadata": {},
   "source": [
    " # Drawing "
   ]
  },
  {
   "cell_type": "code",
   "execution_count": 14,
   "id": "8e50dcb1",
   "metadata": {},
   "outputs": [
    {
     "data": {
      "text/plain": [
       "<matplotlib.image.AxesImage at 0x2b0861f8a90>"
      ]
     },
     "execution_count": 14,
     "metadata": {},
     "output_type": "execute_result"
    },
    {
     "data": {
      "image/png": "[encoded data removed]",
      "text/plain": [
       "<Figure size 432x288 with 1 Axes>"
      ]
     },
     "metadata": {
      "needs_background": "light"
     },
     "output_type": "display_data"
    }
   ],
   "source": [
    "drawing=False # true if mouse is pressed\n",
    "\n",
    "def brush(event,x,y,flags,param):\n",
    "    global drawing\n",
    "    if event==cv2.EVENT_LBUTTONDOWN:\n",
    "        drawing=True\n",
    "    elif  event==cv2.EVENT_MOUSEMOVE:\n",
    "            if drawing==True : \n",
    "                     cv2.circle(img,(x,y),20,(150,0,200),-1)\n",
    "    elif event ==cv2.EVENT_LBUTTONUP:\n",
    "        drawing=False\n",
    "img=np.zeros((512,512,3),np.uint8)\n",
    "cv2.namedWindow('image')\n",
    "cv2.setMouseCallback('image',brush)\n",
    "while True : \n",
    "    cv2.imshow('image',img)\n",
    "    if cv2.waitKey(1) & 0XFF==27 : # assci code for ESC\n",
    "        break\n",
    "cv2.destroyAllWindows()\n",
    "plt.imshow(img[...,::-1])\n"
   ]
  },
  {
   "cell_type": "markdown",
   "id": "243b4458",
   "metadata": {},
   "source": [
    "# Drawing with mouse and changing the color with keyboard"
   ]
  },
  {
   "cell_type": "code",
   "execution_count": 15,
   "id": "5e1a527c",
   "metadata": {},
   "outputs": [
    {
     "data": {
      "text/plain": [
       "<matplotlib.image.AxesImage at 0x2b08622e8b0>"
      ]
     },
     "execution_count": 15,
     "metadata": {},
     "output_type": "execute_result"
    },
    {
     "data": {
      "image/png": "[encoded data removed]",
      "text/plain": [
       "<Figure size 432x288 with 1 Axes>"
      ]
     },
     "metadata": {
      "needs_background": "light"
     },
     "output_type": "display_data"
    }
   ],
   "source": [
    "import matplotlib.pyplot as plt\n",
    "\n",
    "import numpy as np\n",
    "import cv2 \n",
    "\n",
    "drawing = False # true if mouse is pressed\n",
    "color = (0,255,0)\n",
    "# mouse callback function\n",
    "def brush(event,x,y,flags,param):\n",
    "    global drawing, color\n",
    "    if event == cv2.EVENT_LBUTTONDOWN:\n",
    "        drawing = True\n",
    "    elif event == cv2.EVENT_MOUSEMOVE:\n",
    "        if drawing == True:\n",
    "            cv2.circle(img,(x,y),5,color,-1)\n",
    "    elif event == cv2.EVENT_LBUTTONUP:\n",
    "        drawing = False\n",
    "            \n",
    "img = np.zeros((512,512,3), np.uint8)\n",
    "cv2.namedWindow('image')\n",
    "cv2.setMouseCallback('image',brush)\n",
    "\n",
    "while True:\n",
    "    cv2.imshow('image',img)\n",
    "    k = cv2.waitKey(1) & 0xFF\n",
    "    if k == ord('b'):\n",
    "        color = (255,0,0)\n",
    "    elif k==ord('g'):\n",
    "        color = (0,255,0)\n",
    "    elif k==ord('r'):\n",
    "        color = (0,0,255)\n",
    "    elif k == 27:\n",
    "        break\n",
    "cv2.destroyAllWindows()\n",
    "\n",
    "plt.imshow(img[...,::-1])"
   ]
  }
 ],
 "metadata": {
  "kernelspec": {
   "display_name": "Python 3 (ipykernel)",
   "language": "python",
   "name": "python3"
  },
  "language_info": {
   "codemirror_mode": {
    "name": "ipython",
    "version": 3
   },
   "file_extension": ".py",
   "mimetype": "text/x-python",
   "name": "python",
   "nbconvert_exporter": "python",
   "pygments_lexer": "ipython3",
   "version": "3.9.0"
  }
 },
 "nbformat": 4,
 "nbformat_minor": 5
}
